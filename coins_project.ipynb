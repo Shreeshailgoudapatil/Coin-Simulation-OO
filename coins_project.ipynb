{
 "cells": [
  {
   "cell_type": "code",
   "execution_count": null,
   "id": "474ce778",
   "metadata": {},
   "outputs": [],
   "source": []
  },
  {
   "cell_type": "code",
   "execution_count": null,
   "id": "3798e473",
   "metadata": {},
   "outputs": [],
   "source": []
  },
  {
   "cell_type": "code",
   "execution_count": null,
   "id": "89b345a3",
   "metadata": {},
   "outputs": [],
   "source": []
  },
  {
   "cell_type": "markdown",
   "id": "46f47ef5",
   "metadata": {},
   "source": [
    "# class pound() "
   ]
  },
  {
   "cell_type": "code",
   "execution_count": 30,
   "id": "33cbed82",
   "metadata": {},
   "outputs": [
    {
     "name": "stdout",
     "output_type": "stream",
     "text": [
      "silver True 1\n"
     ]
    }
   ],
   "source": [
    "class pound:\n",
    "    value= 1\n",
    "    color =\"silver\"\n",
    "    diameter = 1 #cm\n",
    "    thichness = 1 #mm\n",
    "    heads = True #bollean\n",
    "    \n",
    "coin1 = pound()\n",
    "print(coin1.color,coin1.heads,coin1.thichness)\n",
    "\n",
    "    \n"
   ]
  },
  {
   "cell_type": "code",
   "execution_count": 31,
   "id": "465da7a5",
   "metadata": {},
   "outputs": [],
   "source": [
    "coin1.color = \"greenish\""
   ]
  },
  {
   "cell_type": "code",
   "execution_count": 26,
   "id": "628caded",
   "metadata": {},
   "outputs": [
    {
     "data": {
      "text/plain": [
       "'greenish'"
      ]
     },
     "execution_count": 26,
     "metadata": {},
     "output_type": "execute_result"
    }
   ],
   "source": [
    "coin1.color"
   ]
  },
  {
   "cell_type": "code",
   "execution_count": 28,
   "id": "86c05d08",
   "metadata": {},
   "outputs": [],
   "source": [
    "coin2 = pound() "
   ]
  },
  {
   "cell_type": "code",
   "execution_count": 32,
   "id": "72aed3ec",
   "metadata": {},
   "outputs": [
    {
     "data": {
      "text/plain": [
       "'silver'"
      ]
     },
     "execution_count": 32,
     "metadata": {},
     "output_type": "execute_result"
    }
   ],
   "source": [
    "coin2.color #Objects are ondependent to each other"
   ]
  },
  {
   "cell_type": "markdown",
   "id": "22c4f5dc",
   "metadata": {},
   "source": [
    "#  class,objects constructor and destructor\n",
    "\n",
    "__init__ is the Constructor\n",
    "__del__ is the destructor"
   ]
  },
  {
   "cell_type": "code",
   "execution_count": 73,
   "id": "df5e2192",
   "metadata": {},
   "outputs": [
    {
     "name": "stdout",
     "output_type": "stream",
     "text": [
      "simply spent\n"
     ]
    }
   ],
   "source": [
    "import random\n",
    "class pound:\n",
    "    def __init__(self,rare=False):\n",
    "        self.rare= rare\n",
    "            \n",
    "        if self.rare is True:\n",
    "            self.value = 1.25 \n",
    "        else:\n",
    "            self.value = 1 \n",
    "        \n",
    "         \n",
    "        self.color =\"silver\"\n",
    "        self.diameter = 1 #cm\n",
    "        self.thichness = 1 #mm\n",
    "        self.heads = True #bollean\n",
    "        \n",
    "    def __del__(self):\n",
    "        print(\"simply spent\") \n",
    "        \n",
    "    def rust(self):\n",
    "        self.color= \"greenish\"\n",
    "        \n",
    "    def clean(self):\n",
    "        self.color = \"silver\"\n",
    "        \n",
    "    def flip(self):\n",
    "        head_options = [True,False]\n",
    "        choice = random.choice(head_options)\n",
    "        self.heads = choice\n",
    "        \n",
    "   \n",
    "        \n",
    "        \n",
    "        \n",
    "        \n",
    "coin1 = pound(rare=True)   "
   ]
  },
  {
   "cell_type": "code",
   "execution_count": 41,
   "id": "2fb1f1c4",
   "metadata": {},
   "outputs": [
    {
     "data": {
      "text/plain": [
       "True"
      ]
     },
     "execution_count": 41,
     "metadata": {},
     "output_type": "execute_result"
    }
   ],
   "source": [
    "coin1.rare"
   ]
  },
  {
   "cell_type": "code",
   "execution_count": 42,
   "id": "52a7b3e4",
   "metadata": {},
   "outputs": [
    {
     "data": {
      "text/plain": [
       "1.25"
      ]
     },
     "execution_count": 42,
     "metadata": {},
     "output_type": "execute_result"
    }
   ],
   "source": [
    "coin1.value"
   ]
  },
  {
   "cell_type": "markdown",
   "id": "687e2241",
   "metadata": {},
   "source": [
    "# rust method"
   ]
  },
  {
   "cell_type": "code",
   "execution_count": 44,
   "id": "7eb10ff8",
   "metadata": {},
   "outputs": [],
   "source": [
    "coin2 = pound()"
   ]
  },
  {
   "cell_type": "code",
   "execution_count": 38,
   "id": "57416789",
   "metadata": {},
   "outputs": [
    {
     "data": {
      "text/plain": [
       "1"
      ]
     },
     "execution_count": 38,
     "metadata": {},
     "output_type": "execute_result"
    }
   ],
   "source": [
    "coin2.value"
   ]
  },
  {
   "cell_type": "code",
   "execution_count": 39,
   "id": "4272b9fc",
   "metadata": {},
   "outputs": [
    {
     "data": {
      "text/plain": [
       "False"
      ]
     },
     "execution_count": 39,
     "metadata": {},
     "output_type": "execute_result"
    }
   ],
   "source": [
    "coin2.rare"
   ]
  },
  {
   "cell_type": "code",
   "execution_count": 45,
   "id": "3d72023b",
   "metadata": {},
   "outputs": [],
   "source": [
    "coin1 = pound()"
   ]
  },
  {
   "cell_type": "code",
   "execution_count": 46,
   "id": "32560e27",
   "metadata": {},
   "outputs": [],
   "source": [
    "coin1.rust() #called the rust method"
   ]
  },
  {
   "cell_type": "code",
   "execution_count": 47,
   "id": "97612150",
   "metadata": {},
   "outputs": [
    {
     "data": {
      "text/plain": [
       "'greenish'"
      ]
     },
     "execution_count": 47,
     "metadata": {},
     "output_type": "execute_result"
    }
   ],
   "source": [
    "coin1.color #rust color"
   ]
  },
  {
   "cell_type": "code",
   "execution_count": 48,
   "id": "22305a7c",
   "metadata": {},
   "outputs": [
    {
     "data": {
      "text/plain": [
       "'silver'"
      ]
     },
     "execution_count": 48,
     "metadata": {},
     "output_type": "execute_result"
    }
   ],
   "source": [
    "coin2.color"
   ]
  },
  {
   "cell_type": "markdown",
   "id": "d158ae31",
   "metadata": {},
   "source": [
    "# flip() method"
   ]
  },
  {
   "cell_type": "code",
   "execution_count": 55,
   "id": "35cb8dfd",
   "metadata": {},
   "outputs": [],
   "source": [
    "coin1.flip()"
   ]
  },
  {
   "cell_type": "code",
   "execution_count": 60,
   "id": "5074a231",
   "metadata": {},
   "outputs": [
    {
     "data": {
      "text/plain": [
       "True"
      ]
     },
     "execution_count": 60,
     "metadata": {},
     "output_type": "execute_result"
    }
   ],
   "source": [
    "coin1.heads"
   ]
  },
  {
   "cell_type": "code",
   "execution_count": 63,
   "id": "65f2d86c",
   "metadata": {},
   "outputs": [],
   "source": [
    "coin1.flip()"
   ]
  },
  {
   "cell_type": "code",
   "execution_count": 64,
   "id": "e00b482a",
   "metadata": {},
   "outputs": [
    {
     "data": {
      "text/plain": [
       "False"
      ]
     },
     "execution_count": 64,
     "metadata": {},
     "output_type": "execute_result"
    }
   ],
   "source": [
    "coin1.heads"
   ]
  },
  {
   "cell_type": "code",
   "execution_count": 66,
   "id": "eed3b67e",
   "metadata": {},
   "outputs": [
    {
     "data": {
      "text/plain": [
       "True"
      ]
     },
     "execution_count": 66,
     "metadata": {},
     "output_type": "execute_result"
    }
   ],
   "source": [
    "coin1.flip()\n",
    "coin1.heads"
   ]
  },
  {
   "cell_type": "markdown",
   "id": "c02614ce",
   "metadata": {},
   "source": [
    "# destructor"
   ]
  },
  {
   "cell_type": "markdown",
   "id": "1cd783c6",
   "metadata": {},
   "source": [
    "# destructor simply delete the method"
   ]
  },
  {
   "cell_type": "code",
   "execution_count": 77,
   "id": "e87993e5",
   "metadata": {},
   "outputs": [
    {
     "name": "stdout",
     "output_type": "stream",
     "text": [
      "simply spent\n"
     ]
    }
   ],
   "source": [
    "coin1 = pound()"
   ]
  },
  {
   "cell_type": "code",
   "execution_count": 78,
   "id": "cf506a88",
   "metadata": {},
   "outputs": [
    {
     "name": "stdout",
     "output_type": "stream",
     "text": [
      "simply spent\n"
     ]
    }
   ],
   "source": [
    "del coin1"
   ]
  },
  {
   "cell_type": "code",
   "execution_count": 79,
   "id": "67ca89a8",
   "metadata": {},
   "outputs": [
    {
     "ename": "NameError",
     "evalue": "name 'coin1' is not defined",
     "output_type": "error",
     "traceback": [
      "\u001b[1;31m---------------------------------------------------------------------------\u001b[0m",
      "\u001b[1;31mNameError\u001b[0m                                 Traceback (most recent call last)",
      "Input \u001b[1;32mIn [79]\u001b[0m, in \u001b[0;36m<cell line: 1>\u001b[1;34m()\u001b[0m\n\u001b[1;32m----> 1\u001b[0m \u001b[43mcoin1\u001b[49m\n",
      "\u001b[1;31mNameError\u001b[0m: name 'coin1' is not defined"
     ]
    }
   ],
   "source": [
    "coin1 #now see after deleteng we cannot see the object"
   ]
  },
  {
   "cell_type": "code",
   "execution_count": 81,
   "id": "46a24649",
   "metadata": {},
   "outputs": [
    {
     "name": "stdout",
     "output_type": "stream",
     "text": [
      "simply spent\n"
     ]
    },
    {
     "data": {
      "text/plain": [
       "1"
      ]
     },
     "execution_count": 81,
     "metadata": {},
     "output_type": "execute_result"
    }
   ],
   "source": [
    "coin1 = pound()\n",
    "coin1.value"
   ]
  },
  {
   "cell_type": "code",
   "execution_count": 82,
   "id": "256d1e1a",
   "metadata": {},
   "outputs": [
    {
     "name": "stdout",
     "output_type": "stream",
     "text": [
      "simply spent\n"
     ]
    }
   ],
   "source": [
    "del coin1"
   ]
  },
  {
   "cell_type": "code",
   "execution_count": 83,
   "id": "7c71f363",
   "metadata": {},
   "outputs": [
    {
     "ename": "NameError",
     "evalue": "name 'coin1' is not defined",
     "output_type": "error",
     "traceback": [
      "\u001b[1;31m---------------------------------------------------------------------------\u001b[0m",
      "\u001b[1;31mNameError\u001b[0m                                 Traceback (most recent call last)",
      "Input \u001b[1;32mIn [83]\u001b[0m, in \u001b[0;36m<cell line: 1>\u001b[1;34m()\u001b[0m\n\u001b[1;32m----> 1\u001b[0m \u001b[43mcoin1\u001b[49m\n",
      "\u001b[1;31mNameError\u001b[0m: name 'coin1' is not defined"
     ]
    }
   ],
   "source": [
    "coin1 "
   ]
  },
  {
   "cell_type": "markdown",
   "id": "dbec48e9",
   "metadata": {},
   "source": [
    "# make all coins"
   ]
  },
  {
   "cell_type": "markdown",
   "id": "3ca903be",
   "metadata": {},
   "source": [
    "# -inheritance"
   ]
  },
  {
   "cell_type": "code",
   "execution_count": 155,
   "id": "04c6fc32",
   "metadata": {},
   "outputs": [],
   "source": [
    "import random\n",
    "\n",
    "class Coin:\n",
    "    def __init__(self,rare=False,clean=True,heads=True,**kwargs):\n",
    "        for key,value in kwargs.items():\n",
    "            setattr(self,key,value)\n",
    "        \n",
    "         \n",
    "        self.rare = rare\n",
    "        self.clean = clean\n",
    "        self.heads = heads\n",
    "        \n",
    "        if self.rare:\n",
    "            self.value = self.original_value*1.25\n",
    "        else:\n",
    "            self.value = self.original_value\n",
    "            \n",
    "        if self.clean:\n",
    "            self.color = self.clean_color\n",
    "        else:\n",
    "            self.color = self.rusty_color\n",
    "              \n",
    "    def rust(self):\n",
    "        self.color= self.rusty_color\n",
    "        \n",
    "    def clean(self):\n",
    "        self.color = self.clean_color\n",
    "    \n",
    "    def __del__(self):\n",
    "        print(\"simply spent\")\n",
    "        \n",
    "    def flip(self):\n",
    "        head_options = [True,False]\n",
    "        choice = random.choice(head_options)\n",
    "        self.heads = choice\n",
    "    \n",
    "            \n",
    "            \n",
    "\n",
    "class pound(Coin):\n",
    "    def __init__(self,rare):\n",
    "        data = { \"original_value\" : 1.00,\n",
    "                \"rusty_color\" : \"greenish\",\n",
    "                \"clean_color\":  \"gold\",\n",
    "                \"num_edges\" : 1, \n",
    "                \"diameter\" : 22.5,\n",
    "                \"thickness\" : 3.12,\n",
    "                \"mass\" : 9.5\n",
    "                }\n",
    "        super().__init__(**data)\n",
    "        \n",
    " \n",
    "    \n",
    "    \n",
    "    \n",
    "   "
   ]
  },
  {
   "cell_type": "code",
   "execution_count": 136,
   "id": "8dd59290",
   "metadata": {},
   "outputs": [
    {
     "name": "stdout",
     "output_type": "stream",
     "text": [
      "simply spent\n"
     ]
    }
   ],
   "source": [
    "one_rupee = pound()"
   ]
  },
  {
   "cell_type": "code",
   "execution_count": 137,
   "id": "e53dda61",
   "metadata": {},
   "outputs": [
    {
     "data": {
      "text/plain": [
       "1.0"
      ]
     },
     "execution_count": 137,
     "metadata": {},
     "output_type": "execute_result"
    }
   ],
   "source": [
    "one_rupee.value"
   ]
  },
  {
   "cell_type": "code",
   "execution_count": 138,
   "id": "a16d9f62",
   "metadata": {},
   "outputs": [
    {
     "data": {
      "text/plain": [
       "'gold'"
      ]
     },
     "execution_count": 138,
     "metadata": {},
     "output_type": "execute_result"
    }
   ],
   "source": [
    "one_rupee.color"
   ]
  },
  {
   "cell_type": "code",
   "execution_count": 139,
   "id": "181780e2",
   "metadata": {},
   "outputs": [],
   "source": [
    "one_rupee.rust()"
   ]
  },
  {
   "cell_type": "code",
   "execution_count": 140,
   "id": "44303f31",
   "metadata": {},
   "outputs": [
    {
     "data": {
      "text/plain": [
       "'greenish'"
      ]
     },
     "execution_count": 140,
     "metadata": {},
     "output_type": "execute_result"
    }
   ],
   "source": [
    "one_rupee.color"
   ]
  },
  {
   "cell_type": "code",
   "execution_count": 141,
   "id": "f4491f24",
   "metadata": {},
   "outputs": [
    {
     "ename": "TypeError",
     "evalue": "'bool' object is not callable",
     "output_type": "error",
     "traceback": [
      "\u001b[1;31m---------------------------------------------------------------------------\u001b[0m",
      "\u001b[1;31mTypeError\u001b[0m                                 Traceback (most recent call last)",
      "Input \u001b[1;32mIn [141]\u001b[0m, in \u001b[0;36m<cell line: 1>\u001b[1;34m()\u001b[0m\n\u001b[1;32m----> 1\u001b[0m \u001b[43mone_rupee\u001b[49m\u001b[38;5;241;43m.\u001b[39;49m\u001b[43mclean\u001b[49m\u001b[43m(\u001b[49m\u001b[43m)\u001b[49m\n",
      "\u001b[1;31mTypeError\u001b[0m: 'bool' object is not callable"
     ]
    }
   ],
   "source": [
    "one_rupee.clean()"
   ]
  },
  {
   "cell_type": "code",
   "execution_count": 142,
   "id": "33df4596",
   "metadata": {},
   "outputs": [
    {
     "data": {
      "text/plain": [
       "'greenish'"
      ]
     },
     "execution_count": 142,
     "metadata": {},
     "output_type": "execute_result"
    }
   ],
   "source": [
    "one_rupee.color"
   ]
  },
  {
   "cell_type": "code",
   "execution_count": 156,
   "id": "99cee544",
   "metadata": {},
   "outputs": [
    {
     "name": "stdout",
     "output_type": "stream",
     "text": [
      "simply spent\n"
     ]
    }
   ],
   "source": [
    "two_rupee = pound(rare=True)"
   ]
  },
  {
   "cell_type": "code",
   "execution_count": 147,
   "id": "a45cbc5a",
   "metadata": {},
   "outputs": [
    {
     "data": {
      "text/plain": [
       "'gold'"
      ]
     },
     "execution_count": 147,
     "metadata": {},
     "output_type": "execute_result"
    }
   ],
   "source": [
    "two_rupee.color"
   ]
  },
  {
   "cell_type": "code",
   "execution_count": 178,
   "id": "1ab6cbc2",
   "metadata": {},
   "outputs": [
    {
     "data": {
      "text/plain": [
       "1.0"
      ]
     },
     "execution_count": 178,
     "metadata": {},
     "output_type": "execute_result"
    }
   ],
   "source": [
    "two_rupee.value "
   ]
  },
  {
   "cell_type": "code",
   "execution_count": 179,
   "id": "77835fdb",
   "metadata": {},
   "outputs": [
    {
     "data": {
      "text/plain": [
       "1.0"
      ]
     },
     "execution_count": 179,
     "metadata": {},
     "output_type": "execute_result"
    }
   ],
   "source": [
    "two_rupee.value"
   ]
  },
  {
   "cell_type": "code",
   "execution_count": 182,
   "id": "8ca1df99",
   "metadata": {},
   "outputs": [],
   "source": []
  },
  {
   "cell_type": "code",
   "execution_count": null,
   "id": "0b6d1196",
   "metadata": {},
   "outputs": [],
   "source": []
  },
  {
   "cell_type": "markdown",
   "id": "e4e1a558",
   "metadata": {},
   "source": [
    "# polymorphism "
   ]
  },
  {
   "cell_type": "code",
   "execution_count": 264,
   "id": "7ddfb445",
   "metadata": {},
   "outputs": [
    {
     "name": "stdout",
     "output_type": "stream",
     "text": [
      "$1coin - Color:red,value:1.0,diameter(m):22.5,thickness(mm):4.12,number of edges:1,mass(g):10 \n",
      "$2coin - Color:gold,value:2.0,diameter(m):28.5,thickness(mm):3.12,number of edges:2,mass(g):9.5 \n",
      "$5coin - Color:darkiest,value:5.0,diameter(m):77.5,thickness(mm):4.79,number of edges:5,mass(g):15 \n",
      "$20coin - Color:pinkest,value:20.0,diameter(m):28.5,thickness(mm):8.99,number of edges:10,mass(g):25 \n"
     ]
    }
   ],
   "source": [
    "  import random\n",
    "\n",
    "class Coin:\n",
    "    def __init__(self,rare=False,clean=True,heads=True,**kwargs):\n",
    "        for key,value in kwargs.items():\n",
    "            setattr(self,key,value)\n",
    "        \n",
    "         \n",
    "        self.rare = rare\n",
    "        self.clean = clean\n",
    "        self.heads = heads\n",
    "        \n",
    "        if self.rare:\n",
    "            self.value = self.original_value*1.25\n",
    "        else:\n",
    "            self.value = self.original_value\n",
    "            \n",
    "        if self.clean:\n",
    "            self.color = self.clean_color\n",
    "        else:\n",
    "            self.color = self.rusty_color\n",
    "              \n",
    "    def rust(self):\n",
    "        self.color= self.rusty_color\n",
    "        \n",
    "    def clean(self):\n",
    "        self.color = self.clean_color\n",
    "    \n",
    "    def __del__(self):\n",
    "        return \"simply spent\"\n",
    "        \n",
    "    #By this method we can customize the string representation of an object\n",
    "    def __str__(self):\n",
    "        if self.original_value >= 1:\n",
    "            return \"${}coin\".format(int(self.original_value))\n",
    "        else:\n",
    "            return \"{}p coin\".format(int(self.original_value*100))\n",
    "        \n",
    "        \n",
    "    def flip(self):\n",
    "        head_options = [True,False]\n",
    "        choice = random.choice(head_options)\n",
    "        self.heads = choice\n",
    "    \n",
    "            \n",
    "\n",
    "        \n",
    "\n",
    "class One_Rupee(Coin):\n",
    "    def __init__(self):\n",
    "        data = { \"original_value\" : 1.00,\n",
    "                \"rusty_color\" : \"brownish\",\n",
    "                \"clean_color\":  \"red\",\n",
    "                \"num_edges\" : 1, \n",
    "                \"diameter\" : 22.5,\n",
    "                \"thickness\" : 4.12,\n",
    "                \"mass\" : 10\n",
    "                }\n",
    "        super().__init__(**data)\n",
    "                \n",
    "\n",
    "        \n",
    "class Two_Rupee(Coin):\n",
    "    def __init__(self):\n",
    "        data = { \"original_value\" : 2.00,\n",
    "                \"rusty_color\" : \"greenish\",\n",
    "                \"clean_color\":  \"gold\",\n",
    "                \"num_edges\" : 2, \n",
    "                \"diameter\" : 28.5,\n",
    "                \"thickness\" : 3.12,\n",
    "                \"mass\" : 9.5\n",
    "                }\n",
    "        super().__init__(**data)\n",
    "        \n",
    " \n",
    "        \n",
    "class Five_Rupee(Coin):\n",
    "    def __init__(self):\n",
    "        data = { \"original_value\" : 5.00,\n",
    "                \"rusty_color\" : None,\n",
    "                \"clean_color\":  \"darkiest\",\n",
    "                \"num_edges\" : 5, \n",
    "                \"diameter\" : 77.5,\n",
    "                \"thickness\" : 4.79,\n",
    "                \"mass\" : 15\n",
    "                }\n",
    "        super().__init__(**data)\n",
    "       \n",
    "    #function are overwiding(plolmorphism) \n",
    "    def rust(self):\n",
    "        self.color = self.clean_color\n",
    "    \n",
    "    def clean(self):\n",
    "        self.color = self.clean_color\n",
    "    \n",
    "    \n",
    "class Twenty_Rupee(Coin):\n",
    "    def __init__(self):\n",
    "        data = { \"original_value\" : 20.00,\n",
    "                \"rusty_color\" : None,\n",
    "                \"clean_color\":  \"pinkest\",\n",
    "                \"num_edges\" : 10, \n",
    "                \"diameter\" : 28.5,\n",
    "                \"thickness\" : 8.99,\n",
    "                \"mass\" : 25\n",
    "                }\n",
    "        super().__init__(**data)\n",
    "    #function are overwiding(plolmorphism) \n",
    "    def rust(self):\n",
    "        self.color = self.clean_color\n",
    "    \n",
    "    def clean(self):\n",
    "        self.color = self.clean_color\n",
    "    \n",
    "coins = [One_Rupee(),Two_Rupee(),Five_Rupee(),Twenty_Rupee()]\n",
    "\n",
    "for coin in coins:\n",
    "    arguments = [ coin,coin.color,coin.value,coin.diameter,coin.thickness,\n",
    "                 coin.num_edges,coin.mass]\n",
    "    \n",
    "    string = \"{} - Color:{},value:{},diameter(m):{},thickness(mm):{},number of edges:{},mass(g):{} \".format(*arguments)\n",
    "    print(string)"
   ]
  },
  {
   "cell_type": "code",
   "execution_count": 261,
   "id": "ea56a2ac",
   "metadata": {},
   "outputs": [],
   "source": [
    "one = one_rupee()"
   ]
  },
  {
   "cell_type": "code",
   "execution_count": 262,
   "id": "b883fca4",
   "metadata": {},
   "outputs": [
    {
     "data": {
      "text/plain": [
       "1.0"
      ]
     },
     "execution_count": 262,
     "metadata": {},
     "output_type": "execute_result"
    }
   ],
   "source": [
    "one.value"
   ]
  },
  {
   "cell_type": "code",
   "execution_count": 263,
   "id": "8165a85e",
   "metadata": {},
   "outputs": [
    {
     "name": "stdout",
     "output_type": "stream",
     "text": [
      "simply spent\n"
     ]
    }
   ],
   "source": [
    "del one"
   ]
  },
  {
   "cell_type": "code",
   "execution_count": null,
   "id": "8914fc53",
   "metadata": {},
   "outputs": [],
   "source": []
  },
  {
   "cell_type": "code",
   "execution_count": null,
   "id": "c08cdff8",
   "metadata": {},
   "outputs": [],
   "source": []
  },
  {
   "cell_type": "code",
   "execution_count": 224,
   "id": "aa5283ae",
   "metadata": {},
   "outputs": [],
   "source": [
    "\n"
   ]
  },
  {
   "cell_type": "code",
   "execution_count": 229,
   "id": "3d0b14d5",
   "metadata": {},
   "outputs": [],
   "source": [
    "\n"
   ]
  },
  {
   "cell_type": "code",
   "execution_count": null,
   "id": "c38f4d18",
   "metadata": {},
   "outputs": [],
   "source": [
    "\n"
   ]
  },
  {
   "cell_type": "code",
   "execution_count": null,
   "id": "f3e42912",
   "metadata": {},
   "outputs": [],
   "source": [
    "\n"
   ]
  },
  {
   "cell_type": "code",
   "execution_count": null,
   "id": "c2d11321",
   "metadata": {},
   "outputs": [],
   "source": []
  },
  {
   "cell_type": "code",
   "execution_count": null,
   "id": "7657dd9e",
   "metadata": {},
   "outputs": [],
   "source": []
  }
 ],
 "metadata": {
  "kernelspec": {
   "display_name": "Python 3 (ipykernel)",
   "language": "python",
   "name": "python3"
  },
  "language_info": {
   "codemirror_mode": {
    "name": "ipython",
    "version": 3
   },
   "file_extension": ".py",
   "mimetype": "text/x-python",
   "name": "python",
   "nbconvert_exporter": "python",
   "pygments_lexer": "ipython3",
   "version": "3.9.12"
  }
 },
 "nbformat": 4,
 "nbformat_minor": 5
}
